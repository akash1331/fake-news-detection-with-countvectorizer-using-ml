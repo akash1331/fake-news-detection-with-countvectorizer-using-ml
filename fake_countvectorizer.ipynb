{
 "cells": [
  {
   "cell_type": "code",
   "execution_count": 1,
   "id": "4ada66a3",
   "metadata": {},
   "outputs": [
    {
     "name": "stdout",
     "output_type": "stream",
     "text": [
      "Imported\n"
     ]
    }
   ],
   "source": [
    "import numpy as np\n",
    "import pandas as pd\n",
    "import matplotlib.pyplot as plt\n",
    "import seaborn as sns\n",
    "import warnings\n",
    "warnings.simplefilter(\"ignore\")\n",
    "\n",
    "print('Imported')"
   ]
  },
  {
   "cell_type": "code",
   "execution_count": 2,
   "id": "03592801",
   "metadata": {},
   "outputs": [
    {
     "data": {
      "text/html": [
       "<div>\n",
       "<style scoped>\n",
       "    .dataframe tbody tr th:only-of-type {\n",
       "        vertical-align: middle;\n",
       "    }\n",
       "\n",
       "    .dataframe tbody tr th {\n",
       "        vertical-align: top;\n",
       "    }\n",
       "\n",
       "    .dataframe thead th {\n",
       "        text-align: right;\n",
       "    }\n",
       "</style>\n",
       "<table border=\"1\" class=\"dataframe\">\n",
       "  <thead>\n",
       "    <tr style=\"text-align: right;\">\n",
       "      <th></th>\n",
       "      <th>Unnamed: 0</th>\n",
       "      <th>title</th>\n",
       "      <th>text</th>\n",
       "      <th>label</th>\n",
       "    </tr>\n",
       "  </thead>\n",
       "  <tbody>\n",
       "    <tr>\n",
       "      <th>0</th>\n",
       "      <td>8476</td>\n",
       "      <td>You Can Smell Hillaryâ€™s Fear</td>\n",
       "      <td>Daniel Greenfield, a Shillman Journalism Fello...</td>\n",
       "      <td>FAKE</td>\n",
       "    </tr>\n",
       "    <tr>\n",
       "      <th>1</th>\n",
       "      <td>10294</td>\n",
       "      <td>Watch The Exact Moment Paul Ryan Committed Pol...</td>\n",
       "      <td>Google Pinterest Digg Linkedin Reddit Stumbleu...</td>\n",
       "      <td>FAKE</td>\n",
       "    </tr>\n",
       "    <tr>\n",
       "      <th>2</th>\n",
       "      <td>3608</td>\n",
       "      <td>Kerry to go to Paris in gesture of sympathy</td>\n",
       "      <td>U.S. Secretary of State John F. Kerry said Mon...</td>\n",
       "      <td>REAL</td>\n",
       "    </tr>\n",
       "    <tr>\n",
       "      <th>3</th>\n",
       "      <td>10142</td>\n",
       "      <td>Bernie supporters on Twitter erupt in anger ag...</td>\n",
       "      <td>â€” Kaydee King (@KaydeeKing) November 9, 2016...</td>\n",
       "      <td>FAKE</td>\n",
       "    </tr>\n",
       "    <tr>\n",
       "      <th>4</th>\n",
       "      <td>875</td>\n",
       "      <td>The Battle of New York: Why This Primary Matters</td>\n",
       "      <td>It's primary day in New York and front-runners...</td>\n",
       "      <td>REAL</td>\n",
       "    </tr>\n",
       "  </tbody>\n",
       "</table>\n",
       "</div>"
      ],
      "text/plain": [
       "  Unnamed: 0                                              title  \\\n",
       "0       8476                     You Can Smell Hillaryâ€™s Fear   \n",
       "1      10294  Watch The Exact Moment Paul Ryan Committed Pol...   \n",
       "2       3608        Kerry to go to Paris in gesture of sympathy   \n",
       "3      10142  Bernie supporters on Twitter erupt in anger ag...   \n",
       "4        875   The Battle of New York: Why This Primary Matters   \n",
       "\n",
       "                                                text label  \n",
       "0  Daniel Greenfield, a Shillman Journalism Fello...  FAKE  \n",
       "1  Google Pinterest Digg Linkedin Reddit Stumbleu...  FAKE  \n",
       "2  U.S. Secretary of State John F. Kerry said Mon...  REAL  \n",
       "3  â€” Kaydee King (@KaydeeKing) November 9, 2016...  FAKE  \n",
       "4  It's primary day in New York and front-runners...  REAL  "
      ]
     },
     "execution_count": 2,
     "metadata": {},
     "output_type": "execute_result"
    }
   ],
   "source": [
    "data = pd.read_csv('./fakeorereal.csv')\n",
    "data.head()"
   ]
  },
  {
   "cell_type": "code",
   "execution_count": 3,
   "id": "c278f6d2",
   "metadata": {},
   "outputs": [
    {
     "data": {
      "text/html": [
       "<div>\n",
       "<style scoped>\n",
       "    .dataframe tbody tr th:only-of-type {\n",
       "        vertical-align: middle;\n",
       "    }\n",
       "\n",
       "    .dataframe tbody tr th {\n",
       "        vertical-align: top;\n",
       "    }\n",
       "\n",
       "    .dataframe thead th {\n",
       "        text-align: right;\n",
       "    }\n",
       "</style>\n",
       "<table border=\"1\" class=\"dataframe\">\n",
       "  <thead>\n",
       "    <tr style=\"text-align: right;\">\n",
       "      <th></th>\n",
       "      <th>title</th>\n",
       "      <th>text</th>\n",
       "      <th>label</th>\n",
       "    </tr>\n",
       "  </thead>\n",
       "  <tbody>\n",
       "    <tr>\n",
       "      <th>0</th>\n",
       "      <td>You Can Smell Hillaryâ€™s Fear</td>\n",
       "      <td>Daniel Greenfield, a Shillman Journalism Fello...</td>\n",
       "      <td>FAKE</td>\n",
       "    </tr>\n",
       "    <tr>\n",
       "      <th>1</th>\n",
       "      <td>Watch The Exact Moment Paul Ryan Committed Pol...</td>\n",
       "      <td>Google Pinterest Digg Linkedin Reddit Stumbleu...</td>\n",
       "      <td>FAKE</td>\n",
       "    </tr>\n",
       "    <tr>\n",
       "      <th>2</th>\n",
       "      <td>Kerry to go to Paris in gesture of sympathy</td>\n",
       "      <td>U.S. Secretary of State John F. Kerry said Mon...</td>\n",
       "      <td>REAL</td>\n",
       "    </tr>\n",
       "    <tr>\n",
       "      <th>3</th>\n",
       "      <td>Bernie supporters on Twitter erupt in anger ag...</td>\n",
       "      <td>â€” Kaydee King (@KaydeeKing) November 9, 2016...</td>\n",
       "      <td>FAKE</td>\n",
       "    </tr>\n",
       "    <tr>\n",
       "      <th>4</th>\n",
       "      <td>The Battle of New York: Why This Primary Matters</td>\n",
       "      <td>It's primary day in New York and front-runners...</td>\n",
       "      <td>REAL</td>\n",
       "    </tr>\n",
       "    <tr>\n",
       "      <th>...</th>\n",
       "      <td>...</td>\n",
       "      <td>...</td>\n",
       "      <td>...</td>\n",
       "    </tr>\n",
       "    <tr>\n",
       "      <th>7813</th>\n",
       "      <td>State Department says it can't find emails fro...</td>\n",
       "      <td>The State Department told the Republican Natio...</td>\n",
       "      <td>REAL</td>\n",
       "    </tr>\n",
       "    <tr>\n",
       "      <th>7814</th>\n",
       "      <td>The â€˜Pâ€™ in PBS Should Stand for â€˜Plutocr...</td>\n",
       "      <td>The â€˜Pâ€™ in PBS Should Stand for â€˜Plutocr...</td>\n",
       "      <td>FAKE</td>\n",
       "    </tr>\n",
       "    <tr>\n",
       "      <th>7815</th>\n",
       "      <td>Anti-Trump Protesters Are Tools of the Oligarc...</td>\n",
       "      <td>Anti-Trump Protesters Are Tools of the Oligar...</td>\n",
       "      <td>FAKE</td>\n",
       "    </tr>\n",
       "    <tr>\n",
       "      <th>7816</th>\n",
       "      <td>In Ethiopia, Obama seeks progress on peace, se...</td>\n",
       "      <td>ADDIS ABABA, Ethiopia â€”President Obama conve...</td>\n",
       "      <td>REAL</td>\n",
       "    </tr>\n",
       "    <tr>\n",
       "      <th>7817</th>\n",
       "      <td>Jeb Bush Is Suddenly Attacking Trump. Here's W...</td>\n",
       "      <td>Jeb Bush Is Suddenly Attacking Trump. Here's W...</td>\n",
       "      <td>REAL</td>\n",
       "    </tr>\n",
       "  </tbody>\n",
       "</table>\n",
       "<p>7818 rows × 3 columns</p>\n",
       "</div>"
      ],
      "text/plain": [
       "                                                  title  \\\n",
       "0                        You Can Smell Hillaryâ€™s Fear   \n",
       "1     Watch The Exact Moment Paul Ryan Committed Pol...   \n",
       "2           Kerry to go to Paris in gesture of sympathy   \n",
       "3     Bernie supporters on Twitter erupt in anger ag...   \n",
       "4      The Battle of New York: Why This Primary Matters   \n",
       "...                                                 ...   \n",
       "7813  State Department says it can't find emails fro...   \n",
       "7814  The â€˜Pâ€™ in PBS Should Stand for â€˜Plutocr...   \n",
       "7815  Anti-Trump Protesters Are Tools of the Oligarc...   \n",
       "7816  In Ethiopia, Obama seeks progress on peace, se...   \n",
       "7817  Jeb Bush Is Suddenly Attacking Trump. Here's W...   \n",
       "\n",
       "                                                   text label  \n",
       "0     Daniel Greenfield, a Shillman Journalism Fello...  FAKE  \n",
       "1     Google Pinterest Digg Linkedin Reddit Stumbleu...  FAKE  \n",
       "2     U.S. Secretary of State John F. Kerry said Mon...  REAL  \n",
       "3     â€” Kaydee King (@KaydeeKing) November 9, 2016...  FAKE  \n",
       "4     It's primary day in New York and front-runners...  REAL  \n",
       "...                                                 ...   ...  \n",
       "7813  The State Department told the Republican Natio...  REAL  \n",
       "7814  The â€˜Pâ€™ in PBS Should Stand for â€˜Plutocr...  FAKE  \n",
       "7815   Anti-Trump Protesters Are Tools of the Oligar...  FAKE  \n",
       "7816  ADDIS ABABA, Ethiopia â€”President Obama conve...  REAL  \n",
       "7817  Jeb Bush Is Suddenly Attacking Trump. Here's W...  REAL  \n",
       "\n",
       "[7818 rows x 3 columns]"
      ]
     },
     "execution_count": 3,
     "metadata": {},
     "output_type": "execute_result"
    }
   ],
   "source": [
    "data = data.drop(['Unnamed: 0'],axis=1)\n",
    "data"
   ]
  },
  {
   "cell_type": "code",
   "execution_count": 4,
   "id": "a52ff2ec",
   "metadata": {},
   "outputs": [
    {
     "data": {
      "text/html": [
       "<div>\n",
       "<style scoped>\n",
       "    .dataframe tbody tr th:only-of-type {\n",
       "        vertical-align: middle;\n",
       "    }\n",
       "\n",
       "    .dataframe tbody tr th {\n",
       "        vertical-align: top;\n",
       "    }\n",
       "\n",
       "    .dataframe thead th {\n",
       "        text-align: right;\n",
       "    }\n",
       "</style>\n",
       "<table border=\"1\" class=\"dataframe\">\n",
       "  <thead>\n",
       "    <tr style=\"text-align: right;\">\n",
       "      <th></th>\n",
       "      <th>title</th>\n",
       "      <th>text</th>\n",
       "      <th>label</th>\n",
       "    </tr>\n",
       "  </thead>\n",
       "  <tbody>\n",
       "    <tr>\n",
       "      <th>0</th>\n",
       "      <td>You Can Smell Hillaryâ€™s Fear</td>\n",
       "      <td>Daniel Greenfield, a Shillman Journalism Fello...</td>\n",
       "      <td>FAKE</td>\n",
       "    </tr>\n",
       "    <tr>\n",
       "      <th>1</th>\n",
       "      <td>Watch The Exact Moment Paul Ryan Committed Pol...</td>\n",
       "      <td>Google Pinterest Digg Linkedin Reddit Stumbleu...</td>\n",
       "      <td>FAKE</td>\n",
       "    </tr>\n",
       "    <tr>\n",
       "      <th>2</th>\n",
       "      <td>Kerry to go to Paris in gesture of sympathy</td>\n",
       "      <td>U.S. Secretary of State John F. Kerry said Mon...</td>\n",
       "      <td>REAL</td>\n",
       "    </tr>\n",
       "    <tr>\n",
       "      <th>3</th>\n",
       "      <td>Bernie supporters on Twitter erupt in anger ag...</td>\n",
       "      <td>â€” Kaydee King (@KaydeeKing) November 9, 2016...</td>\n",
       "      <td>FAKE</td>\n",
       "    </tr>\n",
       "    <tr>\n",
       "      <th>4</th>\n",
       "      <td>The Battle of New York: Why This Primary Matters</td>\n",
       "      <td>It's primary day in New York and front-runners...</td>\n",
       "      <td>REAL</td>\n",
       "    </tr>\n",
       "  </tbody>\n",
       "</table>\n",
       "</div>"
      ],
      "text/plain": [
       "                                               title  \\\n",
       "0                     You Can Smell Hillaryâ€™s Fear   \n",
       "1  Watch The Exact Moment Paul Ryan Committed Pol...   \n",
       "2        Kerry to go to Paris in gesture of sympathy   \n",
       "3  Bernie supporters on Twitter erupt in anger ag...   \n",
       "4   The Battle of New York: Why This Primary Matters   \n",
       "\n",
       "                                                text label  \n",
       "0  Daniel Greenfield, a Shillman Journalism Fello...  FAKE  \n",
       "1  Google Pinterest Digg Linkedin Reddit Stumbleu...  FAKE  \n",
       "2  U.S. Secretary of State John F. Kerry said Mon...  REAL  \n",
       "3  â€” Kaydee King (@KaydeeKing) November 9, 2016...  FAKE  \n",
       "4  It's primary day in New York and front-runners...  REAL  "
      ]
     },
     "execution_count": 4,
     "metadata": {},
     "output_type": "execute_result"
    }
   ],
   "source": [
    "data.head()"
   ]
  },
  {
   "cell_type": "code",
   "execution_count": 5,
   "id": "7dc260ed",
   "metadata": {},
   "outputs": [
    {
     "data": {
      "text/html": [
       "<div>\n",
       "<style scoped>\n",
       "    .dataframe tbody tr th:only-of-type {\n",
       "        vertical-align: middle;\n",
       "    }\n",
       "\n",
       "    .dataframe tbody tr th {\n",
       "        vertical-align: top;\n",
       "    }\n",
       "\n",
       "    .dataframe thead th {\n",
       "        text-align: right;\n",
       "    }\n",
       "</style>\n",
       "<table border=\"1\" class=\"dataframe\">\n",
       "  <thead>\n",
       "    <tr style=\"text-align: right;\">\n",
       "      <th></th>\n",
       "      <th>title</th>\n",
       "      <th>text</th>\n",
       "      <th>label</th>\n",
       "    </tr>\n",
       "  </thead>\n",
       "  <tbody>\n",
       "    <tr>\n",
       "      <th>7813</th>\n",
       "      <td>State Department says it can't find emails fro...</td>\n",
       "      <td>The State Department told the Republican Natio...</td>\n",
       "      <td>REAL</td>\n",
       "    </tr>\n",
       "    <tr>\n",
       "      <th>7814</th>\n",
       "      <td>The â€˜Pâ€™ in PBS Should Stand for â€˜Plutocr...</td>\n",
       "      <td>The â€˜Pâ€™ in PBS Should Stand for â€˜Plutocr...</td>\n",
       "      <td>FAKE</td>\n",
       "    </tr>\n",
       "    <tr>\n",
       "      <th>7815</th>\n",
       "      <td>Anti-Trump Protesters Are Tools of the Oligarc...</td>\n",
       "      <td>Anti-Trump Protesters Are Tools of the Oligar...</td>\n",
       "      <td>FAKE</td>\n",
       "    </tr>\n",
       "    <tr>\n",
       "      <th>7816</th>\n",
       "      <td>In Ethiopia, Obama seeks progress on peace, se...</td>\n",
       "      <td>ADDIS ABABA, Ethiopia â€”President Obama conve...</td>\n",
       "      <td>REAL</td>\n",
       "    </tr>\n",
       "    <tr>\n",
       "      <th>7817</th>\n",
       "      <td>Jeb Bush Is Suddenly Attacking Trump. Here's W...</td>\n",
       "      <td>Jeb Bush Is Suddenly Attacking Trump. Here's W...</td>\n",
       "      <td>REAL</td>\n",
       "    </tr>\n",
       "  </tbody>\n",
       "</table>\n",
       "</div>"
      ],
      "text/plain": [
       "                                                  title  \\\n",
       "7813  State Department says it can't find emails fro...   \n",
       "7814  The â€˜Pâ€™ in PBS Should Stand for â€˜Plutocr...   \n",
       "7815  Anti-Trump Protesters Are Tools of the Oligarc...   \n",
       "7816  In Ethiopia, Obama seeks progress on peace, se...   \n",
       "7817  Jeb Bush Is Suddenly Attacking Trump. Here's W...   \n",
       "\n",
       "                                                   text label  \n",
       "7813  The State Department told the Republican Natio...  REAL  \n",
       "7814  The â€˜Pâ€™ in PBS Should Stand for â€˜Plutocr...  FAKE  \n",
       "7815   Anti-Trump Protesters Are Tools of the Oligar...  FAKE  \n",
       "7816  ADDIS ABABA, Ethiopia â€”President Obama conve...  REAL  \n",
       "7817  Jeb Bush Is Suddenly Attacking Trump. Here's W...  REAL  "
      ]
     },
     "execution_count": 5,
     "metadata": {},
     "output_type": "execute_result"
    }
   ],
   "source": [
    "data.tail()"
   ]
  },
  {
   "cell_type": "code",
   "execution_count": 6,
   "id": "45cbc1af",
   "metadata": {},
   "outputs": [
    {
     "name": "stdout",
     "output_type": "stream",
     "text": [
      "<class 'pandas.core.frame.DataFrame'>\n",
      "RangeIndex: 7818 entries, 0 to 7817\n",
      "Data columns (total 3 columns):\n",
      " #   Column  Non-Null Count  Dtype \n",
      "---  ------  --------------  ----- \n",
      " 0   title   7185 non-null   object\n",
      " 1   text    6915 non-null   object\n",
      " 2   label   6755 non-null   object\n",
      "dtypes: object(3)\n",
      "memory usage: 183.4+ KB\n"
     ]
    }
   ],
   "source": [
    "data.info()"
   ]
  },
  {
   "cell_type": "code",
   "execution_count": 7,
   "id": "90c9e5f7",
   "metadata": {},
   "outputs": [
    {
     "data": {
      "text/html": [
       "<div>\n",
       "<style scoped>\n",
       "    .dataframe tbody tr th:only-of-type {\n",
       "        vertical-align: middle;\n",
       "    }\n",
       "\n",
       "    .dataframe tbody tr th {\n",
       "        vertical-align: top;\n",
       "    }\n",
       "\n",
       "    .dataframe thead th {\n",
       "        text-align: right;\n",
       "    }\n",
       "</style>\n",
       "<table border=\"1\" class=\"dataframe\">\n",
       "  <thead>\n",
       "    <tr style=\"text-align: right;\">\n",
       "      <th></th>\n",
       "      <th>title</th>\n",
       "      <th>text</th>\n",
       "      <th>label</th>\n",
       "    </tr>\n",
       "  </thead>\n",
       "  <tbody>\n",
       "    <tr>\n",
       "      <th>count</th>\n",
       "      <td>7185</td>\n",
       "      <td>6915</td>\n",
       "      <td>6755</td>\n",
       "    </tr>\n",
       "    <tr>\n",
       "      <th>unique</th>\n",
       "      <td>7085</td>\n",
       "      <td>6630</td>\n",
       "      <td>437</td>\n",
       "    </tr>\n",
       "    <tr>\n",
       "      <th>top</th>\n",
       "      <td>OnPolitics | 's politics blog</td>\n",
       "      <td>Killing Obama administration rules, dismantlin...</td>\n",
       "      <td>REAL</td>\n",
       "    </tr>\n",
       "    <tr>\n",
       "      <th>freq</th>\n",
       "      <td>5</td>\n",
       "      <td>58</td>\n",
       "      <td>3161</td>\n",
       "    </tr>\n",
       "  </tbody>\n",
       "</table>\n",
       "</div>"
      ],
      "text/plain": [
       "                                title  \\\n",
       "count                            7185   \n",
       "unique                           7085   \n",
       "top     OnPolitics | 's politics blog   \n",
       "freq                                5   \n",
       "\n",
       "                                                     text label  \n",
       "count                                                6915  6755  \n",
       "unique                                               6630   437  \n",
       "top     Killing Obama administration rules, dismantlin...  REAL  \n",
       "freq                                                   58  3161  "
      ]
     },
     "execution_count": 7,
     "metadata": {},
     "output_type": "execute_result"
    }
   ],
   "source": [
    "data.describe()"
   ]
  },
  {
   "cell_type": "code",
   "execution_count": 8,
   "id": "508b40e8",
   "metadata": {},
   "outputs": [
    {
     "data": {
      "text/plain": [
       "(7818, 3)"
      ]
     },
     "execution_count": 8,
     "metadata": {},
     "output_type": "execute_result"
    }
   ],
   "source": [
    "data.shape"
   ]
  },
  {
   "cell_type": "code",
   "execution_count": 9,
   "id": "3a3ffd2c",
   "metadata": {},
   "outputs": [
    {
     "data": {
      "text/plain": [
       "title    7085\n",
       "text     6630\n",
       "label     437\n",
       "dtype: int64"
      ]
     },
     "execution_count": 9,
     "metadata": {},
     "output_type": "execute_result"
    }
   ],
   "source": [
    "data.nunique()"
   ]
  },
  {
   "cell_type": "code",
   "execution_count": 10,
   "id": "881c6a41",
   "metadata": {},
   "outputs": [
    {
     "data": {
      "text/plain": [
       "673"
      ]
     },
     "execution_count": 10,
     "metadata": {},
     "output_type": "execute_result"
    }
   ],
   "source": [
    "data.duplicated().sum()"
   ]
  },
  {
   "cell_type": "code",
   "execution_count": 11,
   "id": "b9ece49c",
   "metadata": {},
   "outputs": [
    {
     "data": {
      "text/plain": [
       "title     633\n",
       "text      903\n",
       "label    1063\n",
       "dtype: int64"
      ]
     },
     "execution_count": 11,
     "metadata": {},
     "output_type": "execute_result"
    }
   ],
   "source": [
    "data.isnull().sum()"
   ]
  },
  {
   "cell_type": "code",
   "execution_count": 12,
   "id": "f0650dd2",
   "metadata": {},
   "outputs": [
    {
     "data": {
      "text/plain": [
       "Index(['title', 'text', 'label'], dtype='object')"
      ]
     },
     "execution_count": 12,
     "metadata": {},
     "output_type": "execute_result"
    }
   ],
   "source": [
    "data.columns"
   ]
  },
  {
   "cell_type": "code",
   "execution_count": 13,
   "id": "3713b2b7",
   "metadata": {},
   "outputs": [],
   "source": [
    "data = data[(data['label'] == 'FAKE') | (data['label'] == 'REAL')]"
   ]
  },
  {
   "cell_type": "code",
   "execution_count": 14,
   "id": "c98814a0",
   "metadata": {},
   "outputs": [
    {
     "data": {
      "text/html": [
       "<div>\n",
       "<style scoped>\n",
       "    .dataframe tbody tr th:only-of-type {\n",
       "        vertical-align: middle;\n",
       "    }\n",
       "\n",
       "    .dataframe tbody tr th {\n",
       "        vertical-align: top;\n",
       "    }\n",
       "\n",
       "    .dataframe thead th {\n",
       "        text-align: right;\n",
       "    }\n",
       "</style>\n",
       "<table border=\"1\" class=\"dataframe\">\n",
       "  <thead>\n",
       "    <tr style=\"text-align: right;\">\n",
       "      <th></th>\n",
       "      <th>title</th>\n",
       "      <th>text</th>\n",
       "      <th>label</th>\n",
       "    </tr>\n",
       "  </thead>\n",
       "  <tbody>\n",
       "    <tr>\n",
       "      <th>0</th>\n",
       "      <td>You Can Smell Hillaryâ€™s Fear</td>\n",
       "      <td>Daniel Greenfield, a Shillman Journalism Fello...</td>\n",
       "      <td>FAKE</td>\n",
       "    </tr>\n",
       "    <tr>\n",
       "      <th>1</th>\n",
       "      <td>Watch The Exact Moment Paul Ryan Committed Pol...</td>\n",
       "      <td>Google Pinterest Digg Linkedin Reddit Stumbleu...</td>\n",
       "      <td>FAKE</td>\n",
       "    </tr>\n",
       "    <tr>\n",
       "      <th>2</th>\n",
       "      <td>Kerry to go to Paris in gesture of sympathy</td>\n",
       "      <td>U.S. Secretary of State John F. Kerry said Mon...</td>\n",
       "      <td>REAL</td>\n",
       "    </tr>\n",
       "    <tr>\n",
       "      <th>3</th>\n",
       "      <td>Bernie supporters on Twitter erupt in anger ag...</td>\n",
       "      <td>â€” Kaydee King (@KaydeeKing) November 9, 2016...</td>\n",
       "      <td>FAKE</td>\n",
       "    </tr>\n",
       "    <tr>\n",
       "      <th>4</th>\n",
       "      <td>The Battle of New York: Why This Primary Matters</td>\n",
       "      <td>It's primary day in New York and front-runners...</td>\n",
       "      <td>REAL</td>\n",
       "    </tr>\n",
       "    <tr>\n",
       "      <th>...</th>\n",
       "      <td>...</td>\n",
       "      <td>...</td>\n",
       "      <td>...</td>\n",
       "    </tr>\n",
       "    <tr>\n",
       "      <th>7813</th>\n",
       "      <td>State Department says it can't find emails fro...</td>\n",
       "      <td>The State Department told the Republican Natio...</td>\n",
       "      <td>REAL</td>\n",
       "    </tr>\n",
       "    <tr>\n",
       "      <th>7814</th>\n",
       "      <td>The â€˜Pâ€™ in PBS Should Stand for â€˜Plutocr...</td>\n",
       "      <td>The â€˜Pâ€™ in PBS Should Stand for â€˜Plutocr...</td>\n",
       "      <td>FAKE</td>\n",
       "    </tr>\n",
       "    <tr>\n",
       "      <th>7815</th>\n",
       "      <td>Anti-Trump Protesters Are Tools of the Oligarc...</td>\n",
       "      <td>Anti-Trump Protesters Are Tools of the Oligar...</td>\n",
       "      <td>FAKE</td>\n",
       "    </tr>\n",
       "    <tr>\n",
       "      <th>7816</th>\n",
       "      <td>In Ethiopia, Obama seeks progress on peace, se...</td>\n",
       "      <td>ADDIS ABABA, Ethiopia â€”President Obama conve...</td>\n",
       "      <td>REAL</td>\n",
       "    </tr>\n",
       "    <tr>\n",
       "      <th>7817</th>\n",
       "      <td>Jeb Bush Is Suddenly Attacking Trump. Here's W...</td>\n",
       "      <td>Jeb Bush Is Suddenly Attacking Trump. Here's W...</td>\n",
       "      <td>REAL</td>\n",
       "    </tr>\n",
       "  </tbody>\n",
       "</table>\n",
       "<p>6315 rows × 3 columns</p>\n",
       "</div>"
      ],
      "text/plain": [
       "                                                  title  \\\n",
       "0                        You Can Smell Hillaryâ€™s Fear   \n",
       "1     Watch The Exact Moment Paul Ryan Committed Pol...   \n",
       "2           Kerry to go to Paris in gesture of sympathy   \n",
       "3     Bernie supporters on Twitter erupt in anger ag...   \n",
       "4      The Battle of New York: Why This Primary Matters   \n",
       "...                                                 ...   \n",
       "7813  State Department says it can't find emails fro...   \n",
       "7814  The â€˜Pâ€™ in PBS Should Stand for â€˜Plutocr...   \n",
       "7815  Anti-Trump Protesters Are Tools of the Oligarc...   \n",
       "7816  In Ethiopia, Obama seeks progress on peace, se...   \n",
       "7817  Jeb Bush Is Suddenly Attacking Trump. Here's W...   \n",
       "\n",
       "                                                   text label  \n",
       "0     Daniel Greenfield, a Shillman Journalism Fello...  FAKE  \n",
       "1     Google Pinterest Digg Linkedin Reddit Stumbleu...  FAKE  \n",
       "2     U.S. Secretary of State John F. Kerry said Mon...  REAL  \n",
       "3     â€” Kaydee King (@KaydeeKing) November 9, 2016...  FAKE  \n",
       "4     It's primary day in New York and front-runners...  REAL  \n",
       "...                                                 ...   ...  \n",
       "7813  The State Department told the Republican Natio...  REAL  \n",
       "7814  The â€˜Pâ€™ in PBS Should Stand for â€˜Plutocr...  FAKE  \n",
       "7815   Anti-Trump Protesters Are Tools of the Oligar...  FAKE  \n",
       "7816  ADDIS ABABA, Ethiopia â€”President Obama conve...  REAL  \n",
       "7817  Jeb Bush Is Suddenly Attacking Trump. Here's W...  REAL  \n",
       "\n",
       "[6315 rows x 3 columns]"
      ]
     },
     "execution_count": 14,
     "metadata": {},
     "output_type": "execute_result"
    }
   ],
   "source": [
    "data"
   ]
  },
  {
   "cell_type": "code",
   "execution_count": 15,
   "id": "1adcc1d0",
   "metadata": {},
   "outputs": [],
   "source": [
    "data = data[(data['title'] != '') & (data['text'] != '')]"
   ]
  },
  {
   "cell_type": "code",
   "execution_count": 16,
   "id": "8704a9e1",
   "metadata": {},
   "outputs": [
    {
     "data": {
      "text/html": [
       "<div>\n",
       "<style scoped>\n",
       "    .dataframe tbody tr th:only-of-type {\n",
       "        vertical-align: middle;\n",
       "    }\n",
       "\n",
       "    .dataframe tbody tr th {\n",
       "        vertical-align: top;\n",
       "    }\n",
       "\n",
       "    .dataframe thead th {\n",
       "        text-align: right;\n",
       "    }\n",
       "</style>\n",
       "<table border=\"1\" class=\"dataframe\">\n",
       "  <thead>\n",
       "    <tr style=\"text-align: right;\">\n",
       "      <th></th>\n",
       "      <th>title</th>\n",
       "      <th>text</th>\n",
       "      <th>label</th>\n",
       "    </tr>\n",
       "  </thead>\n",
       "  <tbody>\n",
       "    <tr>\n",
       "      <th>0</th>\n",
       "      <td>You Can Smell Hillaryâ€™s Fear</td>\n",
       "      <td>Daniel Greenfield, a Shillman Journalism Fello...</td>\n",
       "      <td>FAKE</td>\n",
       "    </tr>\n",
       "    <tr>\n",
       "      <th>1</th>\n",
       "      <td>Watch The Exact Moment Paul Ryan Committed Pol...</td>\n",
       "      <td>Google Pinterest Digg Linkedin Reddit Stumbleu...</td>\n",
       "      <td>FAKE</td>\n",
       "    </tr>\n",
       "    <tr>\n",
       "      <th>2</th>\n",
       "      <td>Kerry to go to Paris in gesture of sympathy</td>\n",
       "      <td>U.S. Secretary of State John F. Kerry said Mon...</td>\n",
       "      <td>REAL</td>\n",
       "    </tr>\n",
       "    <tr>\n",
       "      <th>3</th>\n",
       "      <td>Bernie supporters on Twitter erupt in anger ag...</td>\n",
       "      <td>â€” Kaydee King (@KaydeeKing) November 9, 2016...</td>\n",
       "      <td>FAKE</td>\n",
       "    </tr>\n",
       "    <tr>\n",
       "      <th>4</th>\n",
       "      <td>The Battle of New York: Why This Primary Matters</td>\n",
       "      <td>It's primary day in New York and front-runners...</td>\n",
       "      <td>REAL</td>\n",
       "    </tr>\n",
       "    <tr>\n",
       "      <th>...</th>\n",
       "      <td>...</td>\n",
       "      <td>...</td>\n",
       "      <td>...</td>\n",
       "    </tr>\n",
       "    <tr>\n",
       "      <th>7813</th>\n",
       "      <td>State Department says it can't find emails fro...</td>\n",
       "      <td>The State Department told the Republican Natio...</td>\n",
       "      <td>REAL</td>\n",
       "    </tr>\n",
       "    <tr>\n",
       "      <th>7814</th>\n",
       "      <td>The â€˜Pâ€™ in PBS Should Stand for â€˜Plutocr...</td>\n",
       "      <td>The â€˜Pâ€™ in PBS Should Stand for â€˜Plutocr...</td>\n",
       "      <td>FAKE</td>\n",
       "    </tr>\n",
       "    <tr>\n",
       "      <th>7815</th>\n",
       "      <td>Anti-Trump Protesters Are Tools of the Oligarc...</td>\n",
       "      <td>Anti-Trump Protesters Are Tools of the Oligar...</td>\n",
       "      <td>FAKE</td>\n",
       "    </tr>\n",
       "    <tr>\n",
       "      <th>7816</th>\n",
       "      <td>In Ethiopia, Obama seeks progress on peace, se...</td>\n",
       "      <td>ADDIS ABABA, Ethiopia â€”President Obama conve...</td>\n",
       "      <td>REAL</td>\n",
       "    </tr>\n",
       "    <tr>\n",
       "      <th>7817</th>\n",
       "      <td>Jeb Bush Is Suddenly Attacking Trump. Here's W...</td>\n",
       "      <td>Jeb Bush Is Suddenly Attacking Trump. Here's W...</td>\n",
       "      <td>REAL</td>\n",
       "    </tr>\n",
       "  </tbody>\n",
       "</table>\n",
       "<p>6315 rows × 3 columns</p>\n",
       "</div>"
      ],
      "text/plain": [
       "                                                  title  \\\n",
       "0                        You Can Smell Hillaryâ€™s Fear   \n",
       "1     Watch The Exact Moment Paul Ryan Committed Pol...   \n",
       "2           Kerry to go to Paris in gesture of sympathy   \n",
       "3     Bernie supporters on Twitter erupt in anger ag...   \n",
       "4      The Battle of New York: Why This Primary Matters   \n",
       "...                                                 ...   \n",
       "7813  State Department says it can't find emails fro...   \n",
       "7814  The â€˜Pâ€™ in PBS Should Stand for â€˜Plutocr...   \n",
       "7815  Anti-Trump Protesters Are Tools of the Oligarc...   \n",
       "7816  In Ethiopia, Obama seeks progress on peace, se...   \n",
       "7817  Jeb Bush Is Suddenly Attacking Trump. Here's W...   \n",
       "\n",
       "                                                   text label  \n",
       "0     Daniel Greenfield, a Shillman Journalism Fello...  FAKE  \n",
       "1     Google Pinterest Digg Linkedin Reddit Stumbleu...  FAKE  \n",
       "2     U.S. Secretary of State John F. Kerry said Mon...  REAL  \n",
       "3     â€” Kaydee King (@KaydeeKing) November 9, 2016...  FAKE  \n",
       "4     It's primary day in New York and front-runners...  REAL  \n",
       "...                                                 ...   ...  \n",
       "7813  The State Department told the Republican Natio...  REAL  \n",
       "7814  The â€˜Pâ€™ in PBS Should Stand for â€˜Plutocr...  FAKE  \n",
       "7815   Anti-Trump Protesters Are Tools of the Oligar...  FAKE  \n",
       "7816  ADDIS ABABA, Ethiopia â€”President Obama conve...  REAL  \n",
       "7817  Jeb Bush Is Suddenly Attacking Trump. Here's W...  REAL  \n",
       "\n",
       "[6315 rows x 3 columns]"
      ]
     },
     "execution_count": 16,
     "metadata": {},
     "output_type": "execute_result"
    }
   ],
   "source": [
    "data"
   ]
  },
  {
   "cell_type": "code",
   "execution_count": 17,
   "id": "13707e8d",
   "metadata": {},
   "outputs": [
    {
     "data": {
      "text/plain": [
       "title    0\n",
       "text     1\n",
       "label    0\n",
       "dtype: int64"
      ]
     },
     "execution_count": 17,
     "metadata": {},
     "output_type": "execute_result"
    }
   ],
   "source": [
    "data.isnull().sum()"
   ]
  },
  {
   "cell_type": "code",
   "execution_count": 18,
   "id": "48c6bd10",
   "metadata": {},
   "outputs": [
    {
     "data": {
      "text/html": [
       "<div>\n",
       "<style scoped>\n",
       "    .dataframe tbody tr th:only-of-type {\n",
       "        vertical-align: middle;\n",
       "    }\n",
       "\n",
       "    .dataframe tbody tr th {\n",
       "        vertical-align: top;\n",
       "    }\n",
       "\n",
       "    .dataframe thead th {\n",
       "        text-align: right;\n",
       "    }\n",
       "</style>\n",
       "<table border=\"1\" class=\"dataframe\">\n",
       "  <thead>\n",
       "    <tr style=\"text-align: right;\">\n",
       "      <th></th>\n",
       "      <th>title</th>\n",
       "      <th>text</th>\n",
       "      <th>label</th>\n",
       "    </tr>\n",
       "  </thead>\n",
       "  <tbody>\n",
       "    <tr>\n",
       "      <th>5693</th>\n",
       "      <td>Israel: Ancient Papyrus Proves Jerusalem Belon...</td>\n",
       "      <td>NaN</td>\n",
       "      <td>FAKE</td>\n",
       "    </tr>\n",
       "  </tbody>\n",
       "</table>\n",
       "</div>"
      ],
      "text/plain": [
       "                                                  title text label\n",
       "5693  Israel: Ancient Papyrus Proves Jerusalem Belon...  NaN  FAKE"
      ]
     },
     "execution_count": 18,
     "metadata": {},
     "output_type": "execute_result"
    }
   ],
   "source": [
    "null_data = data[data.isnull().any(axis=1)]\n",
    "null_data"
   ]
  },
  {
   "cell_type": "code",
   "execution_count": 19,
   "id": "0708d961",
   "metadata": {},
   "outputs": [],
   "source": [
    "data = data.drop([5693])"
   ]
  },
  {
   "cell_type": "code",
   "execution_count": 20,
   "id": "4cb745b4",
   "metadata": {},
   "outputs": [
    {
     "data": {
      "text/plain": [
       "title    0\n",
       "text     0\n",
       "label    0\n",
       "dtype: int64"
      ]
     },
     "execution_count": 20,
     "metadata": {},
     "output_type": "execute_result"
    }
   ],
   "source": [
    "data.isnull().sum()"
   ]
  },
  {
   "cell_type": "code",
   "execution_count": 21,
   "id": "749efdff",
   "metadata": {},
   "outputs": [
    {
     "data": {
      "image/png": "[encoded data removed]",
      "text/plain": [
       "<Figure size 432x288 with 1 Axes>"
      ]
     },
     "metadata": {
      "needs_background": "light"
     },
     "output_type": "display_data"
    }
   ],
   "source": [
    "plt.hist(data['label'],bins=10)\n",
    "plt.title('Labels')\n",
    "plt.show()"
   ]
  },
  {
   "cell_type": "code",
   "execution_count": 22,
   "id": "36da24f9",
   "metadata": {},
   "outputs": [
    {
     "data": {
      "image/png": "[encoded data removed]",
      "text/plain": [
       "<Figure size 432x288 with 1 Axes>"
      ]
     },
     "metadata": {},
     "output_type": "display_data"
    }
   ],
   "source": [
    "colors = sns.color_palette('bright')\n",
    "plt.pie(data['label'].value_counts(), colors = colors, autopct = '%0.0f%%', shadow = 'True', startangle = 90,)\n",
    "plt.show()"
   ]
  },
  {
   "cell_type": "code",
   "execution_count": 23,
   "id": "ba44a69b",
   "metadata": {},
   "outputs": [
    {
     "data": {
      "image/png": "[encoded data removed]",
      "text/plain": [
       "<Figure size 720x360 with 1 Axes>"
      ]
     },
     "metadata": {
      "needs_background": "light"
     },
     "output_type": "display_data"
    }
   ],
   "source": [
    "plt.figure(figsize=(10,5))\n",
    "sns.histplot(data['label'],bins=10)\n",
    "plt.title('labels')\n",
    "plt.show()"
   ]
  },
  {
   "cell_type": "code",
   "execution_count": 24,
   "id": "1f2033f3",
   "metadata": {},
   "outputs": [
    {
     "name": "stdout",
     "output_type": "stream",
     "text": [
      "0       1296\n",
      "1        446\n",
      "2        431\n",
      "3        404\n",
      "4        317\n",
      "        ... \n",
      "7813     642\n",
      "7814    2183\n",
      "7815    1947\n",
      "7816    1120\n",
      "7817     825\n",
      "Name: total_count_words, Length: 6314, dtype: int64\n",
      "total_words: 4711750\n",
      "count: 6314\n",
      "average length: 746.238517579981\n"
     ]
    }
   ],
   "source": [
    "data['total_count_words'] = data['text'].str.split().str.len()\n",
    "print(data['total_count_words'])\n",
    "total_words = data['total_count_words'].sum()\n",
    "print('total_words:',total_words)\n",
    "count = 0\n",
    "for y in data['text']:\n",
    "    count = count+1\n",
    "print(\"count:\",count)\n",
    "average_word = total_words/count\n",
    "print(\"average length:\",average_word)"
   ]
  },
  {
   "cell_type": "code",
   "execution_count": 25,
   "id": "c4cd767d",
   "metadata": {},
   "outputs": [
    {
     "name": "stdout",
     "output_type": "stream",
     "text": [
      "0        7598\n",
      "1        2676\n",
      "2        2567\n",
      "3        2696\n",
      "4        1840\n",
      "        ...  \n",
      "7813     4079\n",
      "7814    14665\n",
      "7815    12009\n",
      "7816     7114\n",
      "7817     4826\n",
      "Name: total_length_characters, Length: 6314, dtype: int64\n",
      "total_length_characters: 28910847\n",
      "count: 6314\n",
      "average length: 4578.8481152993345\n"
     ]
    }
   ],
   "source": [
    "data['total_length_characters'] = data['text'].str.len()\n",
    "print(data['total_length_characters'])\n",
    "total_length_characters = data['total_length_characters'].sum()\n",
    "print('total_length_characters:',total_length_characters)\n",
    "count = 0\n",
    "for y in data['text']:\n",
    "    count = count+1\n",
    "print(\"count:\",count)\n",
    "average_length = total_length_characters/count\n",
    "print(\"average length:\",average_length)"
   ]
  },
  {
   "cell_type": "code",
   "execution_count": 26,
   "id": "6ba523e7",
   "metadata": {},
   "outputs": [
    {
     "name": "stdout",
     "output_type": "stream",
     "text": [
      "0        5\n",
      "1       14\n",
      "2        9\n",
      "3       15\n",
      "4        9\n",
      "        ..\n",
      "7813    11\n",
      "7814    10\n",
      "7815     9\n",
      "7816    11\n",
      "7817    10\n",
      "Name: total_count_words, Length: 6314, dtype: int64\n",
      "total_words: 66290\n",
      "count: 6314\n",
      "average length: 10.498891352549888\n"
     ]
    }
   ],
   "source": [
    "data['total_count_words'] = data['title'].str.split().str.len()\n",
    "print(data['total_count_words'])\n",
    "total_words = data['total_count_words'].sum()\n",
    "print('total_words:',total_words)\n",
    "count = 0\n",
    "for y in data['title']:\n",
    "    count = count+1\n",
    "print(\"count:\",count)\n",
    "average_word = total_words/count\n",
    "print(\"average length:\",average_word)"
   ]
  },
  {
   "cell_type": "code",
   "execution_count": 27,
   "id": "6d606d06",
   "metadata": {},
   "outputs": [
    {
     "name": "stdout",
     "output_type": "stream",
     "text": [
      "0       30\n",
      "1       85\n",
      "2       43\n",
      "3       84\n",
      "4       48\n",
      "        ..\n",
      "7813    69\n",
      "7814    71\n",
      "7815    66\n",
      "7816    67\n",
      "7817    61\n",
      "Name: total_length_characters, Length: 6314, dtype: int64\n",
      "total_length_characters: 417640\n",
      "count: 6314\n",
      "average length: 66.14507443775736\n"
     ]
    }
   ],
   "source": [
    "data['total_length_characters'] = data['title'].str.len()\n",
    "print(data['total_length_characters'])\n",
    "total_length_characters = data['total_length_characters'].sum()\n",
    "print('total_length_characters:',total_length_characters)\n",
    "count = 0\n",
    "for y in data['title']:\n",
    "    count = count+1\n",
    "print(\"count:\",count)\n",
    "average_length = total_length_characters/count\n",
    "print(\"average length:\",average_length)"
   ]
  },
  {
   "cell_type": "code",
   "execution_count": 28,
   "id": "af61aefd",
   "metadata": {},
   "outputs": [
    {
     "name": "stdout",
     "output_type": "stream",
     "text": [
      "Completed\n"
     ]
    },
    {
     "name": "stderr",
     "output_type": "stream",
     "text": [
      "[nltk_data] Downloading package stopwords to\n",
      "[nltk_data]     C:\\Users\\akash\\AppData\\Roaming\\nltk_data...\n",
      "[nltk_data]   Package stopwords is already up-to-date!\n"
     ]
    }
   ],
   "source": [
    "import string\n",
    "import re\n",
    "import nltk\n",
    "import pandas as pd\n",
    "import numpy as np\n",
    "from nltk.util import pr\n",
    "from sklearn.feature_extraction.text import CountVectorizer\n",
    "from sklearn.model_selection import train_test_split\n",
    "from sklearn.tree import DecisionTreeClassifier\n",
    "from nltk.corpus import stopwords\n",
    "stemmer = nltk.SnowballStemmer(\"english\")\n",
    "nltk.download('stopwords')\n",
    "stopword=set(stopwords.words('english'))\n",
    "import warnings\n",
    "warnings.filterwarnings('ignore')\n",
    "\n",
    "print('Completed')"
   ]
  },
  {
   "cell_type": "code",
   "execution_count": 29,
   "id": "7185ceb7",
   "metadata": {},
   "outputs": [
    {
     "data": {
      "text/html": [
       "<div>\n",
       "<style scoped>\n",
       "    .dataframe tbody tr th:only-of-type {\n",
       "        vertical-align: middle;\n",
       "    }\n",
       "\n",
       "    .dataframe tbody tr th {\n",
       "        vertical-align: top;\n",
       "    }\n",
       "\n",
       "    .dataframe thead th {\n",
       "        text-align: right;\n",
       "    }\n",
       "</style>\n",
       "<table border=\"1\" class=\"dataframe\">\n",
       "  <thead>\n",
       "    <tr style=\"text-align: right;\">\n",
       "      <th></th>\n",
       "      <th>title</th>\n",
       "      <th>text</th>\n",
       "      <th>label</th>\n",
       "      <th>total_count_words</th>\n",
       "      <th>total_length_characters</th>\n",
       "    </tr>\n",
       "  </thead>\n",
       "  <tbody>\n",
       "    <tr>\n",
       "      <th>0</th>\n",
       "      <td>You Can Smell Hillaryâ€™s Fear</td>\n",
       "      <td>Daniel Greenfield, a Shillman Journalism Fello...</td>\n",
       "      <td>FAKE</td>\n",
       "      <td>5</td>\n",
       "      <td>30</td>\n",
       "    </tr>\n",
       "    <tr>\n",
       "      <th>1</th>\n",
       "      <td>Watch The Exact Moment Paul Ryan Committed Pol...</td>\n",
       "      <td>Google Pinterest Digg Linkedin Reddit Stumbleu...</td>\n",
       "      <td>FAKE</td>\n",
       "      <td>14</td>\n",
       "      <td>85</td>\n",
       "    </tr>\n",
       "    <tr>\n",
       "      <th>2</th>\n",
       "      <td>Kerry to go to Paris in gesture of sympathy</td>\n",
       "      <td>U.S. Secretary of State John F. Kerry said Mon...</td>\n",
       "      <td>REAL</td>\n",
       "      <td>9</td>\n",
       "      <td>43</td>\n",
       "    </tr>\n",
       "    <tr>\n",
       "      <th>3</th>\n",
       "      <td>Bernie supporters on Twitter erupt in anger ag...</td>\n",
       "      <td>â€” Kaydee King (@KaydeeKing) November 9, 2016...</td>\n",
       "      <td>FAKE</td>\n",
       "      <td>15</td>\n",
       "      <td>84</td>\n",
       "    </tr>\n",
       "    <tr>\n",
       "      <th>4</th>\n",
       "      <td>The Battle of New York: Why This Primary Matters</td>\n",
       "      <td>It's primary day in New York and front-runners...</td>\n",
       "      <td>REAL</td>\n",
       "      <td>9</td>\n",
       "      <td>48</td>\n",
       "    </tr>\n",
       "  </tbody>\n",
       "</table>\n",
       "</div>"
      ],
      "text/plain": [
       "                                               title  \\\n",
       "0                     You Can Smell Hillaryâ€™s Fear   \n",
       "1  Watch The Exact Moment Paul Ryan Committed Pol...   \n",
       "2        Kerry to go to Paris in gesture of sympathy   \n",
       "3  Bernie supporters on Twitter erupt in anger ag...   \n",
       "4   The Battle of New York: Why This Primary Matters   \n",
       "\n",
       "                                                text label  total_count_words  \\\n",
       "0  Daniel Greenfield, a Shillman Journalism Fello...  FAKE                  5   \n",
       "1  Google Pinterest Digg Linkedin Reddit Stumbleu...  FAKE                 14   \n",
       "2  U.S. Secretary of State John F. Kerry said Mon...  REAL                  9   \n",
       "3  â€” Kaydee King (@KaydeeKing) November 9, 2016...  FAKE                 15   \n",
       "4  It's primary day in New York and front-runners...  REAL                  9   \n",
       "\n",
       "   total_length_characters  \n",
       "0                       30  \n",
       "1                       85  \n",
       "2                       43  \n",
       "3                       84  \n",
       "4                       48  "
      ]
     },
     "execution_count": 29,
     "metadata": {},
     "output_type": "execute_result"
    }
   ],
   "source": [
    "data.head()"
   ]
  },
  {
   "cell_type": "code",
   "execution_count": 30,
   "id": "c9bf3f4a",
   "metadata": {},
   "outputs": [
    {
     "data": {
      "text/html": [
       "<div>\n",
       "<style scoped>\n",
       "    .dataframe tbody tr th:only-of-type {\n",
       "        vertical-align: middle;\n",
       "    }\n",
       "\n",
       "    .dataframe tbody tr th {\n",
       "        vertical-align: top;\n",
       "    }\n",
       "\n",
       "    .dataframe thead th {\n",
       "        text-align: right;\n",
       "    }\n",
       "</style>\n",
       "<table border=\"1\" class=\"dataframe\">\n",
       "  <thead>\n",
       "    <tr style=\"text-align: right;\">\n",
       "      <th></th>\n",
       "      <th>title</th>\n",
       "      <th>text</th>\n",
       "      <th>label</th>\n",
       "      <th>total_count_words</th>\n",
       "      <th>total_length_characters</th>\n",
       "    </tr>\n",
       "  </thead>\n",
       "  <tbody>\n",
       "    <tr>\n",
       "      <th>7813</th>\n",
       "      <td>State Department says it can't find emails fro...</td>\n",
       "      <td>The State Department told the Republican Natio...</td>\n",
       "      <td>REAL</td>\n",
       "      <td>11</td>\n",
       "      <td>69</td>\n",
       "    </tr>\n",
       "    <tr>\n",
       "      <th>7814</th>\n",
       "      <td>The â€˜Pâ€™ in PBS Should Stand for â€˜Plutocr...</td>\n",
       "      <td>The â€˜Pâ€™ in PBS Should Stand for â€˜Plutocr...</td>\n",
       "      <td>FAKE</td>\n",
       "      <td>10</td>\n",
       "      <td>71</td>\n",
       "    </tr>\n",
       "    <tr>\n",
       "      <th>7815</th>\n",
       "      <td>Anti-Trump Protesters Are Tools of the Oligarc...</td>\n",
       "      <td>Anti-Trump Protesters Are Tools of the Oligar...</td>\n",
       "      <td>FAKE</td>\n",
       "      <td>9</td>\n",
       "      <td>66</td>\n",
       "    </tr>\n",
       "    <tr>\n",
       "      <th>7816</th>\n",
       "      <td>In Ethiopia, Obama seeks progress on peace, se...</td>\n",
       "      <td>ADDIS ABABA, Ethiopia â€”President Obama conve...</td>\n",
       "      <td>REAL</td>\n",
       "      <td>11</td>\n",
       "      <td>67</td>\n",
       "    </tr>\n",
       "    <tr>\n",
       "      <th>7817</th>\n",
       "      <td>Jeb Bush Is Suddenly Attacking Trump. Here's W...</td>\n",
       "      <td>Jeb Bush Is Suddenly Attacking Trump. Here's W...</td>\n",
       "      <td>REAL</td>\n",
       "      <td>10</td>\n",
       "      <td>61</td>\n",
       "    </tr>\n",
       "  </tbody>\n",
       "</table>\n",
       "</div>"
      ],
      "text/plain": [
       "                                                  title  \\\n",
       "7813  State Department says it can't find emails fro...   \n",
       "7814  The â€˜Pâ€™ in PBS Should Stand for â€˜Plutocr...   \n",
       "7815  Anti-Trump Protesters Are Tools of the Oligarc...   \n",
       "7816  In Ethiopia, Obama seeks progress on peace, se...   \n",
       "7817  Jeb Bush Is Suddenly Attacking Trump. Here's W...   \n",
       "\n",
       "                                                   text label  \\\n",
       "7813  The State Department told the Republican Natio...  REAL   \n",
       "7814  The â€˜Pâ€™ in PBS Should Stand for â€˜Plutocr...  FAKE   \n",
       "7815   Anti-Trump Protesters Are Tools of the Oligar...  FAKE   \n",
       "7816  ADDIS ABABA, Ethiopia â€”President Obama conve...  REAL   \n",
       "7817  Jeb Bush Is Suddenly Attacking Trump. Here's W...  REAL   \n",
       "\n",
       "      total_count_words  total_length_characters  \n",
       "7813                 11                       69  \n",
       "7814                 10                       71  \n",
       "7815                  9                       66  \n",
       "7816                 11                       67  \n",
       "7817                 10                       61  "
      ]
     },
     "execution_count": 30,
     "metadata": {},
     "output_type": "execute_result"
    }
   ],
   "source": [
    "data.tail()"
   ]
  },
  {
   "cell_type": "code",
   "execution_count": 31,
   "id": "724eba75",
   "metadata": {},
   "outputs": [
    {
     "name": "stdout",
     "output_type": "stream",
     "text": [
      "0                                      smell hillari fear\n",
      "1       watch exact moment paul ryan commit polit suic...\n",
      "2                           kerri go pari gestur sympathi\n",
      "3          berni support twitter erupt anger dnc tri warn\n",
      "4                           battl new york primari matter\n",
      "                              ...                        \n",
      "7813    state depart say cant find email clinton speci...\n",
      "7814                       p pbs stand plutocrat pentagon\n",
      "7815         antitrump protest tool oligarchi      inform\n",
      "7816    ethiopia obama seek progress peac secur east a...\n",
      "7817             jeb bush sudden attack trump here matter\n",
      "Name: title, Length: 6314, dtype: object\n"
     ]
    }
   ],
   "source": [
    "def clean(text):\n",
    "    text=str(text).lower()\n",
    "    text=re.sub('\\[.*?\\}]','',text)\n",
    "    text=re.sub('https?://\\S+|www\\.\\S+','',text)\n",
    "    text=re.sub('<.*?>+','',text)\n",
    "    text=re.sub('[%s]'%re.escape(string.punctuation),'',text)\n",
    "    text=re.sub('\\n','',text)\n",
    "    text=re.sub('â€™','',text)\n",
    "    text=re.sub('â€˜','',text)\n",
    "    text=re.sub('\\w*\\d\\w*','',text)\n",
    "    text=[word for word in text.split(' ') if word not in stopword]\n",
    "    text=\" \".join(text)\n",
    "    text=[stemmer.stem(word) for word in text.split(' ')]\n",
    "    text=\" \".join(text)\n",
    "    return text\n",
    "data['title']=data['title'].apply(clean)\n",
    "print(data['title'])"
   ]
  },
  {
   "cell_type": "code",
   "execution_count": 32,
   "id": "358b622b",
   "metadata": {},
   "outputs": [
    {
     "name": "stdout",
     "output_type": "stream",
     "text": [
      "0       daniel greenfield shillman journal fellow free...\n",
      "1       googl pinterest digg linkedin reddit stumbleup...\n",
      "2       us secretari state john f kerri said monday st...\n",
      "3        kayde king kaydeek novemb   lesson tonight de...\n",
      "4       primari day new york frontrunn hillari clinton...\n",
      "                              ...                        \n",
      "7813    state depart told republican nation committe c...\n",
      "7814    p pbs stand plutocrat pentagon post oct    wik...\n",
      "7815     antitrump protest tool oligarchi “reform alwa...\n",
      "7816    addi ababa ethiopia presid obama conven meet l...\n",
      "7817    jeb bush sudden attack trump here mattersjeb b...\n",
      "Name: text, Length: 6314, dtype: object\n"
     ]
    }
   ],
   "source": [
    "def clean(text):\n",
    "    text=str(text).lower()\n",
    "    text=re.sub('\\[.*?\\}]','',text)\n",
    "    text=re.sub('https?://\\S+|www\\.\\S+','',text)\n",
    "    text=re.sub('<.*?>+','',text)\n",
    "    text=re.sub('[%s]'%re.escape(string.punctuation),'',text)\n",
    "    text=re.sub('\\n','',text)\n",
    "    text=re.sub('â€™','',text)\n",
    "    text=re.sub('â€˜','',text)\n",
    "    text=re.sub('â€”','',text)\n",
    "    text=re.sub('â','',text)\n",
    "    text=re.sub('\\w*\\d\\w*','',text)\n",
    "    text=[word for word in text.split(' ') if word not in stopword]\n",
    "    text=\" \".join(text)\n",
    "    text=[stemmer.stem(word) for word in text.split(' ')]\n",
    "    text=\" \".join(text)\n",
    "    return text\n",
    "data['text']=data['text'].apply(clean)\n",
    "print(data['text'])"
   ]
  },
  {
   "cell_type": "code",
   "execution_count": 33,
   "id": "15cb3732",
   "metadata": {},
   "outputs": [
    {
     "name": "stdout",
     "output_type": "stream",
     "text": [
      "0        680\n",
      "1        236\n",
      "2        240\n",
      "3        237\n",
      "4        176\n",
      "        ... \n",
      "7813     376\n",
      "7814    1311\n",
      "7815    1036\n",
      "7816     650\n",
      "7817     462\n",
      "Name: total_count_words, Length: 6314, dtype: int64\n",
      "total_words: 2622022\n",
      "count: 6314\n",
      "average length: 415.2711434906557\n"
     ]
    }
   ],
   "source": [
    "data['total_count_words'] = data['text'].str.split().str.len()\n",
    "print(data['total_count_words'])\n",
    "total_words = data['total_count_words'].sum()\n",
    "print('total_words:',total_words)\n",
    "count = 0\n",
    "for y in data['text']:\n",
    "    count = count+1\n",
    "print(\"count:\",count)\n",
    "average_word = total_words/count\n",
    "print(\"average length:\",average_word)"
   ]
  },
  {
   "cell_type": "code",
   "execution_count": 34,
   "id": "52c33b2f",
   "metadata": {},
   "outputs": [
    {
     "name": "stdout",
     "output_type": "stream",
     "text": [
      "0        3\n",
      "1       11\n",
      "2        5\n",
      "3        8\n",
      "4        5\n",
      "        ..\n",
      "7813     8\n",
      "7814     5\n",
      "7815     5\n",
      "7816     8\n",
      "7817     7\n",
      "Name: total_count_words, Length: 6314, dtype: int64\n",
      "total_words: 46586\n",
      "count: 6314\n",
      "average length: 7.378207158694964\n"
     ]
    }
   ],
   "source": [
    "data['total_count_words'] = data['title'].str.split().str.len()\n",
    "print(data['total_count_words'])\n",
    "total_words = data['total_count_words'].sum()\n",
    "print('total_words:',total_words)\n",
    "count = 0\n",
    "for y in data['title']:\n",
    "    count = count+1\n",
    "print(\"count:\",count)\n",
    "average_word = total_words/count\n",
    "print(\"average length:\",average_word)"
   ]
  },
  {
   "cell_type": "code",
   "execution_count": 35,
   "id": "f8172f54",
   "metadata": {},
   "outputs": [
    {
     "data": {
      "text/html": [
       "<div>\n",
       "<style scoped>\n",
       "    .dataframe tbody tr th:only-of-type {\n",
       "        vertical-align: middle;\n",
       "    }\n",
       "\n",
       "    .dataframe tbody tr th {\n",
       "        vertical-align: top;\n",
       "    }\n",
       "\n",
       "    .dataframe thead th {\n",
       "        text-align: right;\n",
       "    }\n",
       "</style>\n",
       "<table border=\"1\" class=\"dataframe\">\n",
       "  <thead>\n",
       "    <tr style=\"text-align: right;\">\n",
       "      <th></th>\n",
       "      <th>title</th>\n",
       "      <th>text</th>\n",
       "      <th>label</th>\n",
       "      <th>total_count_words</th>\n",
       "      <th>total_length_characters</th>\n",
       "    </tr>\n",
       "  </thead>\n",
       "  <tbody>\n",
       "    <tr>\n",
       "      <th>0</th>\n",
       "      <td>smell hillari fear</td>\n",
       "      <td>daniel greenfield shillman journal fellow free...</td>\n",
       "      <td>FAKE</td>\n",
       "      <td>3</td>\n",
       "      <td>30</td>\n",
       "    </tr>\n",
       "    <tr>\n",
       "      <th>1</th>\n",
       "      <td>watch exact moment paul ryan commit polit suic...</td>\n",
       "      <td>googl pinterest digg linkedin reddit stumbleup...</td>\n",
       "      <td>FAKE</td>\n",
       "      <td>11</td>\n",
       "      <td>85</td>\n",
       "    </tr>\n",
       "    <tr>\n",
       "      <th>2</th>\n",
       "      <td>kerri go pari gestur sympathi</td>\n",
       "      <td>us secretari state john f kerri said monday st...</td>\n",
       "      <td>REAL</td>\n",
       "      <td>5</td>\n",
       "      <td>43</td>\n",
       "    </tr>\n",
       "    <tr>\n",
       "      <th>3</th>\n",
       "      <td>berni support twitter erupt anger dnc tri warn</td>\n",
       "      <td>kayde king kaydeek novemb   lesson tonight de...</td>\n",
       "      <td>FAKE</td>\n",
       "      <td>8</td>\n",
       "      <td>84</td>\n",
       "    </tr>\n",
       "    <tr>\n",
       "      <th>4</th>\n",
       "      <td>battl new york primari matter</td>\n",
       "      <td>primari day new york frontrunn hillari clinton...</td>\n",
       "      <td>REAL</td>\n",
       "      <td>5</td>\n",
       "      <td>48</td>\n",
       "    </tr>\n",
       "  </tbody>\n",
       "</table>\n",
       "</div>"
      ],
      "text/plain": [
       "                                               title  \\\n",
       "0                                 smell hillari fear   \n",
       "1  watch exact moment paul ryan commit polit suic...   \n",
       "2                      kerri go pari gestur sympathi   \n",
       "3     berni support twitter erupt anger dnc tri warn   \n",
       "4                      battl new york primari matter   \n",
       "\n",
       "                                                text label  total_count_words  \\\n",
       "0  daniel greenfield shillman journal fellow free...  FAKE                  3   \n",
       "1  googl pinterest digg linkedin reddit stumbleup...  FAKE                 11   \n",
       "2  us secretari state john f kerri said monday st...  REAL                  5   \n",
       "3   kayde king kaydeek novemb   lesson tonight de...  FAKE                  8   \n",
       "4  primari day new york frontrunn hillari clinton...  REAL                  5   \n",
       "\n",
       "   total_length_characters  \n",
       "0                       30  \n",
       "1                       85  \n",
       "2                       43  \n",
       "3                       84  \n",
       "4                       48  "
      ]
     },
     "execution_count": 35,
     "metadata": {},
     "output_type": "execute_result"
    }
   ],
   "source": [
    "data.head()"
   ]
  },
  {
   "cell_type": "code",
   "execution_count": 36,
   "id": "539de58b",
   "metadata": {},
   "outputs": [],
   "source": [
    "data = data[['title','text','label']]"
   ]
  },
  {
   "cell_type": "code",
   "execution_count": 37,
   "id": "e77a332b",
   "metadata": {},
   "outputs": [
    {
     "data": {
      "text/html": [
       "<div>\n",
       "<style scoped>\n",
       "    .dataframe tbody tr th:only-of-type {\n",
       "        vertical-align: middle;\n",
       "    }\n",
       "\n",
       "    .dataframe tbody tr th {\n",
       "        vertical-align: top;\n",
       "    }\n",
       "\n",
       "    .dataframe thead th {\n",
       "        text-align: right;\n",
       "    }\n",
       "</style>\n",
       "<table border=\"1\" class=\"dataframe\">\n",
       "  <thead>\n",
       "    <tr style=\"text-align: right;\">\n",
       "      <th></th>\n",
       "      <th>title</th>\n",
       "      <th>text</th>\n",
       "      <th>label</th>\n",
       "    </tr>\n",
       "  </thead>\n",
       "  <tbody>\n",
       "    <tr>\n",
       "      <th>0</th>\n",
       "      <td>smell hillari fear</td>\n",
       "      <td>daniel greenfield shillman journal fellow free...</td>\n",
       "      <td>FAKE</td>\n",
       "    </tr>\n",
       "    <tr>\n",
       "      <th>1</th>\n",
       "      <td>watch exact moment paul ryan commit polit suic...</td>\n",
       "      <td>googl pinterest digg linkedin reddit stumbleup...</td>\n",
       "      <td>FAKE</td>\n",
       "    </tr>\n",
       "    <tr>\n",
       "      <th>2</th>\n",
       "      <td>kerri go pari gestur sympathi</td>\n",
       "      <td>us secretari state john f kerri said monday st...</td>\n",
       "      <td>REAL</td>\n",
       "    </tr>\n",
       "    <tr>\n",
       "      <th>3</th>\n",
       "      <td>berni support twitter erupt anger dnc tri warn</td>\n",
       "      <td>kayde king kaydeek novemb   lesson tonight de...</td>\n",
       "      <td>FAKE</td>\n",
       "    </tr>\n",
       "    <tr>\n",
       "      <th>4</th>\n",
       "      <td>battl new york primari matter</td>\n",
       "      <td>primari day new york frontrunn hillari clinton...</td>\n",
       "      <td>REAL</td>\n",
       "    </tr>\n",
       "  </tbody>\n",
       "</table>\n",
       "</div>"
      ],
      "text/plain": [
       "                                               title  \\\n",
       "0                                 smell hillari fear   \n",
       "1  watch exact moment paul ryan commit polit suic...   \n",
       "2                      kerri go pari gestur sympathi   \n",
       "3     berni support twitter erupt anger dnc tri warn   \n",
       "4                      battl new york primari matter   \n",
       "\n",
       "                                                text label  \n",
       "0  daniel greenfield shillman journal fellow free...  FAKE  \n",
       "1  googl pinterest digg linkedin reddit stumbleup...  FAKE  \n",
       "2  us secretari state john f kerri said monday st...  REAL  \n",
       "3   kayde king kaydeek novemb   lesson tonight de...  FAKE  \n",
       "4  primari day new york frontrunn hillari clinton...  REAL  "
      ]
     },
     "execution_count": 37,
     "metadata": {},
     "output_type": "execute_result"
    }
   ],
   "source": [
    "data.head()"
   ]
  },
  {
   "cell_type": "code",
   "execution_count": 38,
   "id": "eb726d3b",
   "metadata": {},
   "outputs": [],
   "source": [
    "x = data.iloc[:,:-1].values\n",
    "y = data.iloc[:,-1].values"
   ]
  },
  {
   "cell_type": "code",
   "execution_count": 39,
   "id": "4dee3ad0",
   "metadata": {},
   "outputs": [
    {
     "data": {
      "text/plain": [
       "(6314, 2)"
      ]
     },
     "execution_count": 39,
     "metadata": {},
     "output_type": "execute_result"
    }
   ],
   "source": [
    "x.shape"
   ]
  },
  {
   "cell_type": "code",
   "execution_count": 40,
   "id": "3f5a99aa",
   "metadata": {},
   "outputs": [
    {
     "data": {
      "text/plain": [
       "array([['smell hillari fear',\n",
       "        'daniel greenfield shillman journal fellow freedom center new york writer focus radic islam final stretch elect hillari rodham clinton gone war fbi word €œunprecedented€\\x9d thrown around often elect ought retir still unpreced nomine major polit parti go war fbi that exact hillari peopl done coma patient wake watch hour cnn hospit bed would assum fbi director jame comey hillari oppon elect fbi attack everyon obama cnn hillari peopl circul letter attack comey current media hit piec lambast target trump wouldnt surpris clinton alli start run attack ad fbi fbis leadership warn entir leftw establish form lynch mob continu go hillari fbis credibl attack media democrat preemptiv head result investig clinton foundat hillari clinton covert struggl fbi agent obama doj peopl gone explos public new york time compar comey j edgar hoover bizarr headlin €œjame comey role recal hoover fbi fair not€\\x9d practic admit front spout nonsens boston globe publish column call comey resign outdon time editori claim scandal realli attack women jame carvill appear msnbc remind everyon still aliv insan accus comey coordin hous republican kgb thought €œvast right wing conspiracy€\\x9d stretch countless media stori charg comey violat procedur know what procedur violat email classifi inform store bathroom server senat harri reid sent comey letter accus violat hatch act hatch act nice idea much relev age obama tenth amend cabl news spectrum quick fill media hack glanc wikipedia articl hatch act tabl accus fbi director one awkward conspiraci hillari ever jame comey realli hurt hillari pick one hell strang way long ago democrat breath sigh relief gave hillari clinton pass promin public statement realli elect trump keep email scandal go trash investig payrol hous republican kgb back play coy sudden develop vladimir putin paul ryan talk take look anthoni weiner comput either comey cun fbi director ever live hes awkward tri navig polit mess trap doj leadership whose polit futur tie hillari victori bureau whose apolit agent want allow job truli mysteri thing hillari associ decid go war respect feder agenc american like fbi hillari clinton enjoy  unfavor rate interest question hillari old strategi lie deni fbi even crimin investig underway instead associ insist secur review fbi correct shrug old breezi denial approach given way savag assault fbi pretend noth wrong bad strategi better one pick fight fbi lunat clinton associ tri claim fbi realli kgb two possibl explan hillari clinton might arrog enough lash fbi believ victori near kind hubri led plan victori firework display could lead declar war fbi irrit final mile campaign explan peopl panick go war fbi behavior smart focus presidenti campaign act desper presidenti candid decid option tri destroy credibl fbi that hubri fear fbi might reveal origin fbi investig hillari clinton confid could ride good reason believ hillari clinton gone place paranoid wreck within short space time €œpositive€\\x9d clinton campaign promis unit countri replac desper flail oper focus energi fight fbi there one reason bizarr behavior clinton campaign decid fbi investig latest batch email pose threat surviv gone fight fbi unpreced step born fear hard know whether fear justifi exist fear alreadi tell us whole lot clinton loyalist rig old investig knew outcom ahead time well knew debat question sudden longer control afraid smell fear fbi wiretap investig clinton foundat find new email time clintonworld panick spinmeist clintonworld claim email scandal much smoke without fire that appear improprieti without substanc isnt react smoke respond fire misguid assault fbi tell us hillari clinton alli afraid revel bigger fundament illeg email setup email setup preemptiv cover clinton campaign panick bad belief right wrong whatev crime illeg setup meant cover risk expos clinton weather countless scandal year whatev protect time around bigger usual corrupt briberi sexual assault abus power follow around throughout year bigger damag alleg alreadi come dont want fbi investig anywher near campaign comey pure intimid also warn senior fbi peopl valu career warn stay away democrat close rank around nomine fbi ugli unpreced scene may also last stand hillari clinton awkward wound way numer scandal elect cycl shes never shown fear desper chang whatev afraid lie buri email huma abedin bring like noth els  '],\n",
       "       ['watch exact moment paul ryan commit polit suicid trump ralli video',\n",
       "        'googl pinterest digg linkedin reddit stumbleupon print delici pocket tumblr two fundament truth world paul ryan desper want presid paul ryan never presid today prove particular stagger exampl polit cowardic paul ryan rerererevers cours announc back trump train aboutfac week ago previous declar would support defend trump tape made public trump brag assault women sudden ryan appear protrump ralli bold declar alreadi sent vote make presid unit state surreal moment figurehead republican parti dose gasolin got stage chilli afternoon wisconsin lit match  speakerryan say vote realdonaldtrump  €œrepublican time come home€\\x9d    abc news polit abcpolit novemb   democrat parti couldnt ask better moment film ryan chanc ever becom presid went zero instant wreckag trump leav behind wake craven back campaign recov ryan career manag limp way  dnc tape lock load use everi ad elect day ring endors man clear hate person level speak volum spineless ryan postur €œprincipled€\\x9d conserv one uncomfort trump unapologet bigotri sexism howev push came shove paul ryan €“ like mani colleagu €“ turn snivel appeas lofti tak convict principl hous card collaps slightest breez what especi bizarr close ryan came make unscath month speaker hous refus comment trump strategi seem keep head pretend trump didnt exist hope nobodi rememb happen  day away elect screw  ugli elect done good expos utter cowardic republican feign moral courag realiti televis star spit hijack parti insult wive got everi last one kneel turn event featur imag via twitter'],\n",
       "       ['kerri go pari gestur sympathi',\n",
       "        'us secretari state john f kerri said monday stop pari later week amid critic top american offici attend sunday uniti march terrorismkerri said expect arriv pari thursday even head home week abroad said fli franc conclus seri meet schedul thursday sofia bulgaria plan meet next day foreign minist laurent fabius presid francoi holland return washingtonth visit kerri famili childhood tie countri speak fluent french could address critic unit state snub franc darkest hour mani yearsth french press monday fill question neither presid obama kerri attend sunday march  leader nation obama said stay away secur need tax countri kerri prior commitmentsamong rough  leader attend isra prime minist benjamin netanyahu stranger intens secur march besid holland citi street highest rank us offici attend march jane hartley ambassador franc victoria nuland assist secretari state european affair attorney general eric h holder jr pari meet law enforc offici particip marchkerri spent sunday busi summit host india prime minist narendra modi unit state eager india relax stringent law function barrier foreign invest hope modi govern act open huge indian market american businessesin news confer kerri brush asid critic unit state sent senior offici pari €œquibbl littl bit€\\x9d note mani staffer american embassi pari attend march includ ambassador said want present march could prior commit india€œbut go way home make crystal clear passion feel event taken place there€\\x9d said€œand dont think peopl franc doubt america understand happen person sens loss deep commit peopl franc moment trauma€\\x9d'],\n",
       "       ...,\n",
       "       ['antitrump protest tool oligarchi      inform',\n",
       "        \" antitrump protest tool oligarchi “reform alway provok rage part profit old order” arthur schlesing jr crisi old orderbi paul craig robert antitrump protest besmirch name progress pretend progress refus accept outcom presidenti elect look like act wors “white trash” denouncingi think know thug hire paid oligarchi delegitim trump presid way washington german marshal fund paid student kiev protest democrat elect ukrainian govern order prepar way coupth organ changeorg claim progress group might front along progress group oligarchi destroy reput progress circul petit direct elector elector collag annul elect cast vote hillari rememb upset progress trump said might accept elect result evid vote rig progress damn trump say might certain conditionsth western presstitut use protest kiev delegitim democrat elect govern set coup protest pay good enough nonukrainian came nearbi countri particip protest order collect money time post amount paid daili protest report came eastern western europ peopl ukrainian paid protest ukrainiansth thing go trump protest cnn report “for mani american across countri donald trump victori outcom simpli refus accept ten thousand fill street least  us citi overnight” exact report oligarchi desir presstitut goti hope one think simultan protest  citi spontan event  independ protest manag come slogan sign night follow electionwhat point protest interest serv roman alway ask “who benefits”ther one answer oligarchi oligarchi benefitstrump threat oligarchi intend stop giveaway american job foreign job giveaway sanctifi neoliber junk economist “free trade” one main reason  centuri worsen us incom distribut money former paid middl class wage salari american manufactur employe colleg graduat rerout pocket one percentwhen us corpor move product good servic sold american offshor asian countri china india wage bill fall money former paid middl class incom goe instead execut bonus dividend capit gain sharehold ladder upward mobil made america land opportun dismantl sole purpos make hand peopl multibillionairestrump threat oligarchi intend peac relat russia order replac profit soviet threat oligarchi neoconserv agent work overtim recreat “russian threat” demon russiaaccustom mani decad excess profit profit cold war militarysecur complex angri presid reagan brought cold war end leach american taxpay could get cold war go soviet union collaps result rightw coup soviet presid mikhail gorbachevth militarysecur complex zionist neoconserv agent cook “the war terror” keep money flow one percent hard presstitut media work creat fear “the muslim threat” even insouci american knew muslim thousand icbm carri power thermonuclear weapon capabl destroy entireti unit state minut neither muslim red armi capabl overrun europ coupl day inde muslim haven't need armi refuge washington war enabl european overrun europeth excus annual trillion dollar  billion  militarysecur budget miss oligarchi creat “the new hitler” russia hillari oligarchi principl agent heat new cold warhillari tool enrich oligarchi whose job presid protect increas trillion dollar budget militarysecur complex hillari white hous loot american taxpay behalf wealth one percent could go forward unimped trump resolv “the russian threat” oligarchi take incom hithillari job presid also privat social secur order wall street benefactor rip american way american rip insur compani obamacarethos american pay attent think mistaken fbi clear hillari violat nation secur protocol email practic fbi said hillari violat nation secur result careless ignor got indict fbi conclud intent violat nation secur protocol investig clinton foundat continuesin word order protect hillari fbi fell back ancient common law rule “there crime without intent” see pcr lawrenc stratton tyranni good intent one would think protest legitim would celebr trump victori unlik hillari promis reduc tension power russia hope also china unlik hillari trump say concern absenc career peopl protest street  citi himin word protest american peopl elect trump presid pointless protest happen one reason oligarchi intend delegitim trump presid presid trump delegitim easier oligarchi assassin unless oligarchi appoint control trump govern trump prime candid assassinationth protest trump suspici anoth reason unlik hillari obama georg w bush donald trump slaughter disloc million peopl seven countri send million refuge oligarchi war overrun europetrump earn fortun hook crook sell us govern influenc foreign agent bill hillari didso protest protestingther answer except hire protest maidan protest kiev hire protest us german financ ngosth protest kiev equal pointless presidenti elect month away ukrainian realli believ presid conspir russia keep ukrain becom western puppet state wish becom puppet state regardless cost opportun vote govern hand reason protest orchestr coup us succeed put agent control new ukrainian govern victoria nuland us ambassador kiev confirm telephon convers avail internetth maidan protest pointless except make coup possibl protest without doubt arrang washington assist secretari state victoria nuland neoconserv brought state depart hillari clinton purpos creat conflict russiatrump protest order make vulner event prove threat oligarchi thought betrump presid oligarchi still power make real reform difficult achiev symbol reform product contest presid trump oligarchskarl marx learn histor experi lenin stalin pol pot learn karl marx chang cannot occur displac rule class left intact revolut proof throughout south america everi revolut indigen peopl left unmolest spanish rule class everi revolut overthrown collus rule class washingtonwashington conspir tradit elit remov elect presid hondura number occas recent washington help elit evict femal presid argentina brazil presid venezuela ecuador bolivia crosshair unlik surviv washington determin get hand julian assang achiev washington intend overthrow ecuadoran govern defianc washington gave julian assang polit asylumhugo chavez power exil extermin spanish rule class venezuela rule class particip cia coup chavez cia could kill chavez peopl militari forc releas instead punish crimin would murder chavez let goaccord marx lenin stalin classic mistak revolutionari reli good overthrown rule class certain road defeat revolutionlatin american prove unabl learn lesson revolut cannot conciliatorytrump dealmak oligarchi permit sheen success exchang real changetrump perfect might fail back two import element program reduc tension major nuclear power halt washington polici permit global destroy american econom prospectsif tension nuclear power worsen won't worri problem combin economi hollow global immigr econom nightmar trump understand reason support himnot believ trump ruse conduct oligarchi howev hillari boughtandpaidfor repres oligarchi elabor ruse unnecessari prefer oligarchi win platform instal presid opposit platform chang around anoth sellout increas anger peopl hillari oligarchi would voter mandat platformdr paul craig robert assist secretari treasuri econom polici associ editor wall street journal columnist busi week scripp howard news servic creator syndic mani univers appoint internet column attract worldwid follow robert latest book failur laissez fair capit econom dissolut west  america lost  neoconserv threat world order \"],\n",
       "       ['ethiopia obama seek progress peac secur east africa',\n",
       "        'addi ababa ethiopia presid obama conven meet leader sever east african nation african union monday effort address worsen situat south sudan even met ethiopia prime minist discuss strengthen human right democrat institut herewith resolut sight ongo conflict south sudan obama brought togeth top offici ethiopia uganda kenya sudan au chart strategi event latest round peac talk failafrican nation led ethiopia tri broker peac south sudan intergovernment author develop igad region bodi almost readi present possibl compromis war parti two side aug  respond propos administr offici littl expect accept iton monday obama prais region leader show €œextraordinari leadership tri address continu situat south sudan€\\x9d group includ ethiopian prime minist hailemariam desalegn ugandan presid yoweri museveni kenyan presid uhuru kenyatta african union chairperson dlamini zuma sudan minist foreign affair ibrahim ghandour€œthi give us deleg opportun learn progress made appear continu roadblock partner make progress€\\x9d obama said €œour hope actual bring kind peac peopl south sudan desper need€\\x9dth question south sudan  nation unit state help bring exist  year effort georg w bush obama administr  vex american policymak yearsin decemb  south sudan presid salva kiir accus riek machar serv vice presid attempt coup detat two longtim polit rival differ ethnic group  kiir dinka machar nuer  come togeth form govern countri first createdwhil tribal differ help fuel conflict war larg focus control nation oil field south sudan primari sourc revenueprinceton lyman us special envoy sudan south sudan   note first took envoy unit state spent  billion peacekeep assist two nation €œand four year ago€¦ big investment€\\x9d addedat point  million peopl face food shortag rough  million displac home addit  south sudanes fled across border neighbor countri includ ethiopiath conflict also pose major econom problem kenya major invest south sudan fight broke lapsset corridor project aim transport oil south sudan kenyan port lamu accord ej hogendoorn deputi program director africa intern crisi group plan transport infrastructur develop could €œengin develop mani part east africa unfortun cours that hold war€\\x9d saidwhil obama spent part afternoon address region conflict africa devot rest day strengthen tie ethiopia whose allianc unit state date back centuri current govern come sharp critic treatment polit oppon journalistsobama first sit us presid visit ethiopiain news confer monday afternoon obama hailemariam said frank discuss ethiopia human right practic need improv ethiopia africa number two jailer journalist accord committe protect journalist rule parti  percent seat may parliamentari electionswhit hous nation secur advis susan rice ask last week whether consid ethiopia democraci repli ironi €œone hundr percent€\\x9dbut news confer obama twice refer ethiopian govern €œdemocrat elected€\\x9d€œi dont bite tongue€\\x9d obama said rais concern issu ethiopia €œbut posit respect€\\x9dhailemariam part said €œour commit democraci real skin deep€\\x9dbut ad later peopl could expect sweep reform given fact militari rule end coupl decad ago €œsometh understood fledgl democracy€\\x9dth two leader also discuss collabor counterterror area ethiopia activ leader white hous announc monday €œwork congress provid approxim  million€\\x9d year new train equip capacitybuild aid african alliesth administr also said would provid least  million assist fiscal year combat violent extrem east africa money intend foster collabor among secur forc law enforc govern offici communiti leader member civil societi offici saidobama prais ethiopia work curb extremist activ note govern label opposit group pose greater threat us intellig would indic €œour intellig indic may oppos govern tip terrorism€\\x9d saidth unit state provid  million in\\xa0assist ethiopia annual vast bulk   million  come us agenc intern develop rest larg securityrel last fiscal year near  million went health program  million went humanitarian aidobama said ethiopia €œhas proven global leader€\\x9d develop past  year €œhas lift million peopl poverty€\\x9d€œto mani peopl around world imag ethiopia remain stuck past rememb drought famine€\\x9d saidth two leader appear friend rapport throughout news confer hailemariam describ countri score seri first along €œthe cradl mankind€\\x9d said €œethiopia birthplac coffee€\\x9d elicit smile obamaobama said impress ethiopian unusu pet €œi chanc see famous lion live ground said im consid get white house€\\x9d conced €œill make sure dog safe€\\x9d'],\n",
       "       ['jeb bush sudden attack trump here matter',\n",
       "        'jeb bush sudden attack trump here mattersjeb bush isnt pull punch anymor come donald trumpth former florida governor delic danc around billionair businessman  presidenti primari far glove came week bush call trump closet democrat tri stunt trump rise attempt recov polit mojowhat jeb desper tri find swagger right gop strategist ford oconnel said knock jeb hes low voltag will fight best way shake percept engag person media  loopit chang bush approach point hasnt lob mani direct attack trump delic condemn critic arizona sen john mccain war servic attack fox news megyn kellyeven month first debat bush swat stori alleg call trump buffoon clown say trump languag divis trump call bush true gentlemanth detent end week far toptier candid avoid direct attack trump treat kid glove anger part gop base trump appealsin word voter need hope trump fadesin splitscreen new hampshir town hall week bush trump volley attack bush took point jab current frontrunn underscor trump past histori democrat liber posit use holdmr trump doesnt proven conserv record bush said accord washington post democrat longer last decad republican given money democrat hes given republicansbush went attack trump hardlin immigr propos argu vitriol would massiv price taghundr billion dollar cost implement plan conserv plan bush said go pitch let support someon dont guess stand hes consist hes governor hes consist view hasov next day bush continu hit social mediabut trump never one miss moment retali didnt pull punch either town hall wednesday trump blast bush unelect lowenergi personyou know what happen jeb crowd street theyr sleep trump said applausesinc trump also ramp attack bush twitterth move hot rhetor may trip bush though consid use phrase anchor babi immigr reform someth bush passion  even written book  hes often critic within gop liber issu instead combat bush appear use load phrase first timeh left struggl defend use may signal attackdog crouch hes take still one isnt complet comfort bush earlier said want campaign joyfullyoth candid embrac hit trump kentucki sen rand paul went forc debat though punch  trump hedg bet support hillari clinton win presid  didnt appear landoth candid like ohio gov john kasich demur earlier gop debat night former texa gov rick perri businesswoman car fiorina also jab trumpbush though need close floodgat hes drop nation poll trump risen new hampshir bush led trump even newcom kasich seen surgescullen former new hampshir gop chairman said chang tone tactic smart move bush one could help granit statei think good polit jeb said fergus cullen former new hampshir republican parti chairman there  percent republican entertain donald trump there  percent parti say wont vote circumst arent jeb bush peopl begin hes tri appeal  percent adult room tri governoconnel agre point even new approach one that uncomfort bush necessaryin lot elect studious one would work said trump flip script']],\n",
       "      dtype=object)"
      ]
     },
     "execution_count": 40,
     "metadata": {},
     "output_type": "execute_result"
    }
   ],
   "source": [
    "x"
   ]
  },
  {
   "cell_type": "code",
   "execution_count": 41,
   "id": "591263d9",
   "metadata": {},
   "outputs": [
    {
     "data": {
      "text/plain": [
       "(6314,)"
      ]
     },
     "execution_count": 41,
     "metadata": {},
     "output_type": "execute_result"
    }
   ],
   "source": [
    "y.shape"
   ]
  },
  {
   "cell_type": "code",
   "execution_count": 42,
   "id": "a74d84d4",
   "metadata": {},
   "outputs": [],
   "source": [
    "from sklearn.feature_extraction.text import CountVectorizer\n",
    "cv = CountVectorizer(max_features=5000)\n",
    "mat_body = cv.fit_transform(x[:,1]).todense()"
   ]
  },
  {
   "cell_type": "code",
   "execution_count": 43,
   "id": "c9e95e0f",
   "metadata": {},
   "outputs": [
    {
     "data": {
      "text/plain": [
       "matrix([[0, 0, 0, ..., 0, 0, 0],\n",
       "        [0, 1, 0, ..., 0, 0, 0],\n",
       "        [0, 0, 0, ..., 0, 0, 0],\n",
       "        ...,\n",
       "        [0, 0, 0, ..., 0, 0, 0],\n",
       "        [0, 0, 0, ..., 0, 0, 0],\n",
       "        [0, 0, 0, ..., 0, 0, 0]], dtype=int64)"
      ]
     },
     "execution_count": 43,
     "metadata": {},
     "output_type": "execute_result"
    }
   ],
   "source": [
    "mat_body"
   ]
  },
  {
   "cell_type": "code",
   "execution_count": 44,
   "id": "4a642808",
   "metadata": {},
   "outputs": [],
   "source": [
    "cv_head = CountVectorizer(max_features=5000)\n",
    "mat_head = cv_head.fit_transform(x[:,0]).todense()"
   ]
  },
  {
   "cell_type": "code",
   "execution_count": 45,
   "id": "7d0b3d2b",
   "metadata": {},
   "outputs": [
    {
     "data": {
      "text/plain": [
       "matrix([[0, 0, 0, ..., 0, 0, 0],\n",
       "        [0, 0, 0, ..., 0, 0, 0],\n",
       "        [0, 0, 0, ..., 0, 0, 0],\n",
       "        ...,\n",
       "        [0, 0, 0, ..., 0, 0, 0],\n",
       "        [0, 0, 0, ..., 0, 0, 0],\n",
       "        [0, 0, 0, ..., 0, 0, 0]], dtype=int64)"
      ]
     },
     "execution_count": 45,
     "metadata": {},
     "output_type": "execute_result"
    }
   ],
   "source": [
    "mat_head"
   ]
  },
  {
   "cell_type": "code",
   "execution_count": 46,
   "id": "0d84f847",
   "metadata": {},
   "outputs": [],
   "source": [
    "x_mat = np.hstack((mat_head,mat_body))"
   ]
  },
  {
   "cell_type": "code",
   "execution_count": 47,
   "id": "1378c35a",
   "metadata": {},
   "outputs": [
    {
     "data": {
      "text/plain": [
       "(6314, 10000)"
      ]
     },
     "execution_count": 47,
     "metadata": {},
     "output_type": "execute_result"
    }
   ],
   "source": [
    "x_mat.shape"
   ]
  },
  {
   "cell_type": "code",
   "execution_count": 48,
   "id": "57e51735",
   "metadata": {},
   "outputs": [
    {
     "data": {
      "text/plain": [
       "(6314,)"
      ]
     },
     "execution_count": 48,
     "metadata": {},
     "output_type": "execute_result"
    }
   ],
   "source": [
    "y.shape"
   ]
  },
  {
   "cell_type": "code",
   "execution_count": 49,
   "id": "901134cc",
   "metadata": {},
   "outputs": [],
   "source": [
    "X_train,X_test,y_train,y_test=train_test_split(x_mat,y,test_size=0.33,random_state=42)"
   ]
  },
  {
   "cell_type": "code",
   "execution_count": 50,
   "id": "16c7c52c",
   "metadata": {},
   "outputs": [
    {
     "data": {
      "text/plain": [
       "DecisionTreeClassifier()"
      ]
     },
     "execution_count": 50,
     "metadata": {},
     "output_type": "execute_result"
    }
   ],
   "source": [
    "from sklearn.tree import DecisionTreeClassifier\n",
    "clf = DecisionTreeClassifier()\n",
    "clf.fit(X_train,y_train)"
   ]
  },
  {
   "cell_type": "code",
   "execution_count": 51,
   "id": "c839085e",
   "metadata": {},
   "outputs": [],
   "source": [
    "y_pred = clf.predict(X_test)"
   ]
  },
  {
   "cell_type": "code",
   "execution_count": 52,
   "id": "aad5a461",
   "metadata": {},
   "outputs": [
    {
     "name": "stdout",
     "output_type": "stream",
     "text": [
      "              precision    recall  f1-score   support\n",
      "\n",
      "        FAKE       0.79      0.83      0.81      1027\n",
      "        REAL       0.83      0.79      0.81      1057\n",
      "\n",
      "    accuracy                           0.81      2084\n",
      "   macro avg       0.81      0.81      0.81      2084\n",
      "weighted avg       0.81      0.81      0.81      2084\n",
      "\n"
     ]
    }
   ],
   "source": [
    "from sklearn.metrics import classification_report\n",
    "print(classification_report(y_test,y_pred))"
   ]
  },
  {
   "cell_type": "code",
   "execution_count": 53,
   "id": "85275ce7",
   "metadata": {},
   "outputs": [
    {
     "name": "stdout",
     "output_type": "stream",
     "text": [
      "Training Accuracy: 1.0\n",
      "Testing Accuracy: 0.8104606525911708\n"
     ]
    }
   ],
   "source": [
    "print(\"Training Accuracy:\",clf.score(X_train,y_train))\n",
    "print(\"Testing Accuracy:\",clf.score(X_test,y_test))"
   ]
  },
  {
   "cell_type": "code",
   "execution_count": 54,
   "id": "07f91ebd",
   "metadata": {},
   "outputs": [
    {
     "data": {
      "text/plain": [
       "RandomForestClassifier(criterion='entropy', n_estimators=10)"
      ]
     },
     "execution_count": 54,
     "metadata": {},
     "output_type": "execute_result"
    }
   ],
   "source": [
    "from sklearn.ensemble import RandomForestClassifier\n",
    "classifier = RandomForestClassifier(n_estimators=10,criterion=\"entropy\")\n",
    "classifier.fit(X_train,y_train)"
   ]
  },
  {
   "cell_type": "code",
   "execution_count": 55,
   "id": "6970c15e",
   "metadata": {},
   "outputs": [],
   "source": [
    "y_pred = classifier.predict(X_test)"
   ]
  },
  {
   "cell_type": "code",
   "execution_count": 56,
   "id": "27263d79",
   "metadata": {},
   "outputs": [
    {
     "name": "stdout",
     "output_type": "stream",
     "text": [
      "Training Accuracy: 0.9947990543735225\n",
      "Testing Accuracy: 0.8589251439539347\n"
     ]
    }
   ],
   "source": [
    "print(\"Training Accuracy:\",classifier.score(X_train,y_train))\n",
    "print(\"Testing Accuracy:\",classifier.score(X_test,y_test))"
   ]
  },
  {
   "cell_type": "code",
   "execution_count": 57,
   "id": "a7a662ee",
   "metadata": {},
   "outputs": [
    {
     "name": "stdout",
     "output_type": "stream",
     "text": [
      "              precision    recall  f1-score   support\n",
      "\n",
      "        FAKE       0.82      0.91      0.86      1027\n",
      "        REAL       0.90      0.81      0.85      1057\n",
      "\n",
      "    accuracy                           0.86      2084\n",
      "   macro avg       0.86      0.86      0.86      2084\n",
      "weighted avg       0.86      0.86      0.86      2084\n",
      "\n"
     ]
    }
   ],
   "source": [
    "print(classification_report(y_test,y_pred))"
   ]
  },
  {
   "cell_type": "code",
   "execution_count": 58,
   "id": "70e7d644",
   "metadata": {},
   "outputs": [],
   "source": [
    "from sklearn.linear_model import LogisticRegression\n",
    "log = LogisticRegression()\n",
    "log.fit(X_train,y_train)\n",
    "y_pred = log.predict(X_test)"
   ]
  },
  {
   "cell_type": "code",
   "execution_count": 59,
   "id": "191a1e6f",
   "metadata": {},
   "outputs": [
    {
     "name": "stdout",
     "output_type": "stream",
     "text": [
      "Training Accuracy: 1.0\n",
      "Testing Accuracy: 0.9285028790786948\n"
     ]
    }
   ],
   "source": [
    "print(\"Training Accuracy:\",log.score(X_train,y_train))\n",
    "print(\"Testing Accuracy:\",log.score(X_test,y_test))"
   ]
  },
  {
   "cell_type": "code",
   "execution_count": null,
   "id": "281af593",
   "metadata": {},
   "outputs": [],
   "source": []
  }
 ],
 "metadata": {
  "kernelspec": {
   "display_name": "Python 3 (ipykernel)",
   "language": "python",
   "name": "python3"
  },
  "language_info": {
   "codemirror_mode": {
    "name": "ipython",
    "version": 3
   },
   "file_extension": ".py",
   "mimetype": "text/x-python",
   "name": "python",
   "nbconvert_exporter": "python",
   "pygments_lexer": "ipython3",
   "version": "3.9.7"
  }
 },
 "nbformat": 4,
 "nbformat_minor": 5
}
